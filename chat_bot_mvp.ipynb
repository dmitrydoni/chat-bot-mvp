{
  "nbformat": 4,
  "nbformat_minor": 0,
  "metadata": {
    "colab": {
      "name": "ChatBot - Day 3.ipynb",
      "provenance": [],
      "collapsed_sections": []
    },
    "kernelspec": {
      "name": "python3",
      "display_name": "Python 3"
    },
    "language_info": {
      "name": "python"
    }
  },
  "cells": [
    {
      "cell_type": "code",
      "metadata": {
        "id": "o6lJLg1-sZyn"
      },
      "source": [
        "pip install python-telegram-bot --upgrade"
      ],
      "execution_count": null,
      "outputs": []
    },
    {
      "cell_type": "code",
      "metadata": {
        "id": "ZY2tOpvsanoH"
      },
      "source": [
        "import random\n",
        "import nltk\n",
        "import json\n",
        "from sklearn.feature_extraction.text import CountVectorizer, TfidfVectorizer\n",
        "from sklearn.linear_model import LogisticRegression\n",
        "from sklearn.model_selection import train_test_split\n",
        "import logging\n",
        "from telegram import Update, ForceReply\n",
        "from telegram.ext import Updater, CommandHandler, MessageHandler, Filters, CallbackContext"
      ],
      "execution_count": null,
      "outputs": []
    },
    {
      "cell_type": "code",
      "metadata": {
        "id": "W-j5FF8ib0rr"
      },
      "source": [
        "# BOT_CONFIG = {\n",
        "#     'intents': {\n",
        "#         'hello': {\n",
        "#             'examples': ['Привет!', 'Здарова', 'Хей-хей!!'],\n",
        "#             'responses': ['Хай', 'Добрый вечер!', 'Здравствуйте!']\n",
        "#         },\n",
        "#         'bye': {\n",
        "#             'examples': ['Пока', 'Увидимся!', 'Покеда'],\n",
        "#             'responses': ['До свидания', 'Прощайте', 'Сайонара!']\n",
        "#         }\n",
        "#     }\n",
        "# }\n",
        "with open('/content/BOT_CONFIG.json', 'r') as f:\n",
        "  BOT_CONFIG = json.load(f)"
      ],
      "execution_count": null,
      "outputs": []
    },
    {
      "cell_type": "code",
      "metadata": {
        "id": "xoCjQcPBy7rO"
      },
      "source": [
        "with open('/content/BOT_CONFIG1.json', 'w') as f:\n",
        "   json.dump(BOT_CONFIG, f, ensure_ascii=False, indent=3)"
      ],
      "execution_count": null,
      "outputs": []
    },
    {
      "cell_type": "markdown",
      "metadata": {
        "id": "AgZvlkLpiwWI"
      },
      "source": [
        "# День 1"
      ]
    },
    {
      "cell_type": "code",
      "metadata": {
        "id": "5NtkA4HjdTWb"
      },
      "source": [
        "def clean(text):\n",
        "  text = text.lower()\n",
        "  cleaned_text = ''\n",
        "  for ch in text:\n",
        "    if ch in 'абвгдеёжзийклмнопрстуфхцчшщъыьэюя ':\n",
        "      cleaned_text = cleaned_text + ch\n",
        "  return cleaned_text\n",
        "\n",
        "def get_intent(text):\n",
        "  for intent in BOT_CONFIG['intents'].keys():\n",
        "    for example in BOT_CONFIG['intents'][intent]['examples']:\n",
        "      w1 = clean(example)\n",
        "      w2 = clean(text)\n",
        "      if nltk.edit_distance(w1, w2) / max(len(w1), len(w2)) < 0.4:\n",
        "        return intent\n",
        "  return 'интент не найден'"
      ],
      "execution_count": null,
      "outputs": []
    },
    {
      "cell_type": "markdown",
      "metadata": {
        "id": "uIe5ey1ni2FE"
      },
      "source": [
        "# День 2"
      ]
    },
    {
      "cell_type": "code",
      "metadata": {
        "colab": {
          "base_uri": "https://localhost:8080/"
        },
        "id": "wNl1ljC5i4cF",
        "outputId": "4480db92-98e0-409e-eaef-4d20f48cd2b1"
      },
      "source": [
        "X = []\n",
        "y = []\n",
        "\n",
        "for intent in BOT_CONFIG['intents'].keys():\n",
        "    try:\n",
        "        for example in BOT_CONFIG['intents'][intent]['examples']:\n",
        "            X.append(example)\n",
        "            y.append(intent)\n",
        "    except:\n",
        "        pass\n",
        "\n",
        "len(X), len(y), len(set(y))"
      ],
      "execution_count": null,
      "outputs": [
        {
          "output_type": "execute_result",
          "data": {
            "text/plain": [
              "(841, 841, 243)"
            ]
          },
          "metadata": {},
          "execution_count": 4
        }
      ]
    },
    {
      "cell_type": "code",
      "metadata": {
        "colab": {
          "base_uri": "https://localhost:8080/"
        },
        "id": "mnh4irQurVRv",
        "outputId": "0856f981-49bc-4b26-a880-a0f2bd189d06"
      },
      "source": [
        "X_train, X_test, y_train, y_test = train_test_split(\n",
        "    X, y, test_size=0.2, random_state=42)\n",
        "len(X_train), len(X_test)"
      ],
      "execution_count": null,
      "outputs": [
        {
          "output_type": "execute_result",
          "data": {
            "text/plain": [
              "(672, 169)"
            ]
          },
          "metadata": {},
          "execution_count": 5
        }
      ]
    },
    {
      "cell_type": "code",
      "metadata": {
        "colab": {
          "base_uri": "https://localhost:8080/"
        },
        "id": "OJUrFOGtkdz3",
        "outputId": "8e575ad9-f4ba-4aa4-be35-04429d8f518a"
      },
      "source": [
        "vectorizer = CountVectorizer(preprocessor=clean, analyzer='char', ngram_range=(2,3))\n",
        "X_train_vect = vectorizer.fit_transform(X_train)\n",
        "X_test_vect = vectorizer.transform(X_test)\n",
        "\n",
        "len(vectorizer.get_feature_names())"
      ],
      "execution_count": null,
      "outputs": [
        {
          "output_type": "execute_result",
          "data": {
            "text/plain": [
              "2476"
            ]
          },
          "metadata": {},
          "execution_count": 6
        }
      ]
    },
    {
      "cell_type": "code",
      "metadata": {
        "colab": {
          "base_uri": "https://localhost:8080/"
        },
        "id": "7eOGJ7fzlQkX",
        "outputId": "28b95a8f-a6b1-4b53-bf30-22d5cb1ea763"
      },
      "source": [
        "log_reg = LogisticRegression(C=0.2)\n",
        "log_reg.fit(X_train_vect, y_train)\n",
        "log_reg.score(X_train_vect, y_train)"
      ],
      "execution_count": null,
      "outputs": [
        {
          "output_type": "execute_result",
          "data": {
            "text/plain": [
              "0.8065476190476191"
            ]
          },
          "metadata": {},
          "execution_count": 7
        }
      ]
    },
    {
      "cell_type": "code",
      "metadata": {
        "colab": {
          "base_uri": "https://localhost:8080/"
        },
        "id": "ranBVVyprytC",
        "outputId": "85826baf-91d1-457e-c590-1037a42f780e"
      },
      "source": [
        "log_reg.score(X_test_vect, y_test)"
      ],
      "execution_count": null,
      "outputs": [
        {
          "output_type": "execute_result",
          "data": {
            "text/plain": [
              "0.1834319526627219"
            ]
          },
          "metadata": {},
          "execution_count": 8
        }
      ]
    },
    {
      "cell_type": "code",
      "metadata": {
        "id": "yEwIipd7l7gk"
      },
      "source": [
        "def get_intent_by_model(text):\n",
        "    return log_reg.predict(vectorizer.transform([text]))[0]"
      ],
      "execution_count": null,
      "outputs": []
    },
    {
      "cell_type": "code",
      "metadata": {
        "id": "WugqtKIamUYE"
      },
      "source": [
        "def bot(question):\n",
        "  intent = get_intent_by_model(question)\n",
        "  return random.choice(BOT_CONFIG['intents'][intent]['responses'])"
      ],
      "execution_count": null,
      "outputs": []
    },
    {
      "cell_type": "code",
      "metadata": {
        "id": "XZf6LMvOt9MK"
      },
      "source": [
        "# question = ''\n",
        "# while True:\n",
        "#   question = input()\n",
        "#   if question != 'стоп':\n",
        "#       answer = bot(question)\n",
        "#       print(answer)\n",
        "#   else:\n",
        "#       break"
      ],
      "execution_count": null,
      "outputs": []
    },
    {
      "cell_type": "markdown",
      "metadata": {
        "id": "9CBsfjIvsFco"
      },
      "source": [
        "# День 3"
      ]
    },
    {
      "cell_type": "code",
      "metadata": {
        "id": "wtaQKnuFsIhl"
      },
      "source": [
        "# Enable logging\n",
        "logging.basicConfig(\n",
        "    format='%(asctime)s - %(name)s - %(levelname)s - %(message)s', level=logging.INFO\n",
        ")\n",
        "\n",
        "logger = logging.getLogger(__name__)\n",
        "\n",
        "\n",
        "# Define a few command handlers. These usually take the two arguments update and\n",
        "# context.\n",
        "def start(update: Update, context: CallbackContext) -> None:\n",
        "    \"\"\"Send a message when the command /start is issued.\"\"\"\n",
        "    user = update.effective_user\n",
        "    update.message.reply_markdown_v2(\n",
        "        fr'Hi {user.mention_markdown_v2()}\\!',\n",
        "        reply_markup=ForceReply(selective=True),\n",
        "    )\n",
        "\n",
        "\n",
        "def help_command(update: Update, context: CallbackContext) -> None:\n",
        "    \"\"\"Send a message when the command /help is issued.\"\"\"\n",
        "    update.message.reply_text('Help!')\n",
        "\n",
        "\n",
        "def echo(update: Update, context: CallbackContext) -> None:\n",
        "    \"\"\"Echo the user message.\"\"\"\n",
        "    question = update.message.text\n",
        "    try:\n",
        "      answer = bot(question)\n",
        "    except:\n",
        "      answer = 'Извините, что-то сломалось =('\n",
        "      \n",
        "    update.message.reply_text(answer)\n",
        "\n",
        "\n",
        "def main() -> None:\n",
        "    \"\"\"Start the bot.\"\"\"\n",
        "    # Create the Updater and pass it your bot's token.\n",
        "    updater = Updater(\"1971454798:AAHLLbwzKp8hXfHLNo_KHg23c7420dsbstc\")\n",
        "\n",
        "    # Get the dispatcher to register handlers\n",
        "    dispatcher = updater.dispatcher\n",
        "\n",
        "    # on different commands - answer in Telegram\n",
        "    dispatcher.add_handler(CommandHandler(\"start\", start))\n",
        "    dispatcher.add_handler(CommandHandler(\"help\", help_command))\n",
        "\n",
        "    # on non command i.e message - echo the message on Telegram\n",
        "    dispatcher.add_handler(MessageHandler(Filters.text & ~Filters.command, echo))\n",
        "\n",
        "    # Start the Bot\n",
        "    updater.start_polling()\n",
        "\n",
        "    # Run the bot until you press Ctrl-C or the process receives SIGINT,\n",
        "    # SIGTERM or SIGABRT. This should be used most of the time, since\n",
        "    # start_polling() is non-blocking and will stop the bot gracefully.\n",
        "    updater.idle()"
      ],
      "execution_count": null,
      "outputs": []
    },
    {
      "cell_type": "code",
      "metadata": {
        "colab": {
          "base_uri": "https://localhost:8080/"
        },
        "id": "3Boywkflsnyv",
        "outputId": "a3f429bb-ab9b-4e1f-c507-f110526a3666"
      },
      "source": [
        "main()"
      ],
      "execution_count": null,
      "outputs": [
        {
          "output_type": "stream",
          "name": "stderr",
          "text": [
            "2021-09-15 18:33:53,006 - apscheduler.scheduler - INFO - Scheduler started\n",
            "2021-09-15 18:45:04,520 - telegram.ext.updater - ERROR - Error while getting Updates: Conflict: terminated by other getUpdates request; make sure that only one bot instance is running\n",
            "2021-09-15 18:45:04,523 - telegram.ext.dispatcher - ERROR - No error handlers are registered, logging exception.\n",
            "Traceback (most recent call last):\n",
            "  File \"/usr/local/lib/python3.7/dist-packages/telegram/ext/updater.py\", line 646, in _network_loop_retry\n",
            "    if not action_cb():\n",
            "  File \"/usr/local/lib/python3.7/dist-packages/telegram/ext/updater.py\", line 601, in polling_action_cb\n",
            "    allowed_updates=allowed_updates,\n",
            "  File \"/usr/local/lib/python3.7/dist-packages/telegram/ext/extbot.py\", line 228, in get_updates\n",
            "    api_kwargs=api_kwargs,\n",
            "  File \"/usr/local/lib/python3.7/dist-packages/telegram/bot.py\", line 130, in decorator\n",
            "    result = func(*args, **kwargs)\n",
            "  File \"/usr/local/lib/python3.7/dist-packages/telegram/bot.py\", line 2865, in get_updates\n",
            "    api_kwargs=api_kwargs,\n",
            "  File \"/usr/local/lib/python3.7/dist-packages/telegram/bot.py\", line 296, in _post\n",
            "    f'{self.base_url}/{endpoint}', data=data, timeout=effective_timeout\n",
            "  File \"/usr/local/lib/python3.7/dist-packages/telegram/utils/request.py\", line 361, in post\n",
            "    **urlopen_kwargs,\n",
            "  File \"/usr/local/lib/python3.7/dist-packages/telegram/utils/request.py\", line 283, in _request_wrapper\n",
            "    raise Conflict(message)\n",
            "telegram.error.Conflict: Conflict: terminated by other getUpdates request; make sure that only one bot instance is running\n",
            "2021-09-15 18:45:09,732 - telegram.ext.updater - ERROR - Error while getting Updates: Conflict: terminated by other getUpdates request; make sure that only one bot instance is running\n",
            "2021-09-15 18:45:09,738 - telegram.ext.dispatcher - ERROR - No error handlers are registered, logging exception.\n",
            "Traceback (most recent call last):\n",
            "  File \"/usr/local/lib/python3.7/dist-packages/telegram/ext/updater.py\", line 646, in _network_loop_retry\n",
            "    if not action_cb():\n",
            "  File \"/usr/local/lib/python3.7/dist-packages/telegram/ext/updater.py\", line 601, in polling_action_cb\n",
            "    allowed_updates=allowed_updates,\n",
            "  File \"/usr/local/lib/python3.7/dist-packages/telegram/ext/extbot.py\", line 228, in get_updates\n",
            "    api_kwargs=api_kwargs,\n",
            "  File \"/usr/local/lib/python3.7/dist-packages/telegram/bot.py\", line 130, in decorator\n",
            "    result = func(*args, **kwargs)\n",
            "  File \"/usr/local/lib/python3.7/dist-packages/telegram/bot.py\", line 2865, in get_updates\n",
            "    api_kwargs=api_kwargs,\n",
            "  File \"/usr/local/lib/python3.7/dist-packages/telegram/bot.py\", line 296, in _post\n",
            "    f'{self.base_url}/{endpoint}', data=data, timeout=effective_timeout\n",
            "  File \"/usr/local/lib/python3.7/dist-packages/telegram/utils/request.py\", line 361, in post\n",
            "    **urlopen_kwargs,\n",
            "  File \"/usr/local/lib/python3.7/dist-packages/telegram/utils/request.py\", line 283, in _request_wrapper\n",
            "    raise Conflict(message)\n",
            "telegram.error.Conflict: Conflict: terminated by other getUpdates request; make sure that only one bot instance is running\n",
            "2021-09-15 18:45:15,447 - telegram.ext.updater - ERROR - Error while getting Updates: Conflict: terminated by other getUpdates request; make sure that only one bot instance is running\n",
            "2021-09-15 18:45:15,478 - telegram.ext.dispatcher - ERROR - No error handlers are registered, logging exception.\n",
            "Traceback (most recent call last):\n",
            "  File \"/usr/local/lib/python3.7/dist-packages/telegram/ext/updater.py\", line 646, in _network_loop_retry\n",
            "    if not action_cb():\n",
            "  File \"/usr/local/lib/python3.7/dist-packages/telegram/ext/updater.py\", line 601, in polling_action_cb\n",
            "    allowed_updates=allowed_updates,\n",
            "  File \"/usr/local/lib/python3.7/dist-packages/telegram/ext/extbot.py\", line 228, in get_updates\n",
            "    api_kwargs=api_kwargs,\n",
            "  File \"/usr/local/lib/python3.7/dist-packages/telegram/bot.py\", line 130, in decorator\n",
            "    result = func(*args, **kwargs)\n",
            "  File \"/usr/local/lib/python3.7/dist-packages/telegram/bot.py\", line 2865, in get_updates\n",
            "    api_kwargs=api_kwargs,\n",
            "  File \"/usr/local/lib/python3.7/dist-packages/telegram/bot.py\", line 296, in _post\n",
            "    f'{self.base_url}/{endpoint}', data=data, timeout=effective_timeout\n",
            "  File \"/usr/local/lib/python3.7/dist-packages/telegram/utils/request.py\", line 361, in post\n",
            "    **urlopen_kwargs,\n",
            "  File \"/usr/local/lib/python3.7/dist-packages/telegram/utils/request.py\", line 283, in _request_wrapper\n",
            "    raise Conflict(message)\n",
            "telegram.error.Conflict: Conflict: terminated by other getUpdates request; make sure that only one bot instance is running\n",
            "2021-09-15 18:45:21,907 - telegram.ext.updater - ERROR - Error while getting Updates: Conflict: terminated by other getUpdates request; make sure that only one bot instance is running\n",
            "2021-09-15 18:45:21,909 - telegram.ext.dispatcher - ERROR - No error handlers are registered, logging exception.\n",
            "Traceback (most recent call last):\n",
            "  File \"/usr/local/lib/python3.7/dist-packages/telegram/ext/updater.py\", line 646, in _network_loop_retry\n",
            "    if not action_cb():\n",
            "  File \"/usr/local/lib/python3.7/dist-packages/telegram/ext/updater.py\", line 601, in polling_action_cb\n",
            "    allowed_updates=allowed_updates,\n",
            "  File \"/usr/local/lib/python3.7/dist-packages/telegram/ext/extbot.py\", line 228, in get_updates\n",
            "    api_kwargs=api_kwargs,\n",
            "  File \"/usr/local/lib/python3.7/dist-packages/telegram/bot.py\", line 130, in decorator\n",
            "    result = func(*args, **kwargs)\n",
            "  File \"/usr/local/lib/python3.7/dist-packages/telegram/bot.py\", line 2865, in get_updates\n",
            "    api_kwargs=api_kwargs,\n",
            "  File \"/usr/local/lib/python3.7/dist-packages/telegram/bot.py\", line 296, in _post\n",
            "    f'{self.base_url}/{endpoint}', data=data, timeout=effective_timeout\n",
            "  File \"/usr/local/lib/python3.7/dist-packages/telegram/utils/request.py\", line 361, in post\n",
            "    **urlopen_kwargs,\n",
            "  File \"/usr/local/lib/python3.7/dist-packages/telegram/utils/request.py\", line 283, in _request_wrapper\n",
            "    raise Conflict(message)\n",
            "telegram.error.Conflict: Conflict: terminated by other getUpdates request; make sure that only one bot instance is running\n",
            "2021-09-15 18:50:33,898 - telegram.ext.updater - INFO - Received signal 2 (SIGINT), stopping...\n",
            "2021-09-15 18:50:33,901 - apscheduler.scheduler - INFO - Scheduler has been shut down\n"
          ]
        }
      ]
    },
    {
      "cell_type": "code",
      "metadata": {
        "id": "qiIW4TR4tS3p"
      },
      "source": [
        ""
      ],
      "execution_count": null,
      "outputs": []
    }
  ]
}